{
  "nbformat": 4,
  "nbformat_minor": 0,
  "metadata": {
    "colab": {
      "name": "Untitled0.ipynb",
      "provenance": [],
      "authorship_tag": "ABX9TyNsF4bIahq54r+0nckCQB5k",
      "include_colab_link": true
    },
    "kernelspec": {
      "name": "python3",
      "display_name": "Python 3"
    }
  },
  "cells": [
    {
      "cell_type": "markdown",
      "metadata": {
        "id": "view-in-github",
        "colab_type": "text"
      },
      "source": [
        "<a href=\"https://colab.research.google.com/github/Ange-tepe/Hora/blob/master/Untitled0.ipynb\" target=\"_parent\"><img src=\"https://colab.research.google.com/assets/colab-badge.svg\" alt=\"Open In Colab\"/></a>"
      ]
    },
    {
      "cell_type": "code",
      "metadata": {
        "id": "Ybu8aKbEXcE1",
        "outputId": "a34b8ded-07cd-4b23-b141-181a67e6384f",
        "colab": {
          "base_uri": "https://localhost:8080/"
        }
      },
      "source": [
        "def bus_lineal(L, buscado):\n",
        "  indice=-1\n",
        "  for idx in range (len (L)):\n",
        "    if L[idx]==buscado:\n",
        "      indice = idx\n",
        "      break\n",
        "  return indice\n",
        "def busq_MID(\n",
        "def mainBusL():\n",
        "  datos =[1,4,2,5,12,5,67]\n",
        "  dato=int ( input (\"Que valor desea buscar\"))\n",
        "  resultado=bus_lineal(datos, dato)\n",
        "  print(\"resultado\",resultado)\n",
        "mainBusL()\n",
        "  "
      ],
      "execution_count": 7,
      "outputs": [
        {
          "output_type": "stream",
          "text": [
            "Que valor desea buscar67\n",
            "resultado 6\n"
          ],
          "name": "stdout"
        }
      ]
    },
    {
      "cell_type": "markdown",
      "metadata": {
        "id": "8wa1x08qcdIf"
      },
      "source": [
        ""
      ]
    }
  ]
}